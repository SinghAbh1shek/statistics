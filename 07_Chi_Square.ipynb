{
  "nbformat": 4,
  "nbformat_minor": 0,
  "metadata": {
    "colab": {
      "provenance": [],
      "authorship_tag": "ABX9TyOYW/bMVUVGk4IjFShgiejr",
      "include_colab_link": true
    },
    "kernelspec": {
      "name": "python3",
      "display_name": "Python 3"
    },
    "language_info": {
      "name": "python"
    }
  },
  "cells": [
    {
      "cell_type": "markdown",
      "metadata": {
        "id": "view-in-github",
        "colab_type": "text"
      },
      "source": [
        "<a href=\"https://colab.research.google.com/github/SinghAbh1shek/statistics/blob/main/07_Chi_Square.ipynb\" target=\"_parent\"><img src=\"https://colab.research.google.com/assets/colab-badge.svg\" alt=\"Open In Colab\"/></a>"
      ]
    },
    {
      "cell_type": "code",
      "execution_count": null,
      "metadata": {
        "id": "7v1U6XeAQrIK"
      },
      "outputs": [],
      "source": [
        "import numpy as np\n",
        "import scipy.stats as stats"
      ]
    },
    {
      "cell_type": "code",
      "source": [
        "observe_data = np.array([[50, 30, 20],\n",
        "                        [30, 40, 30],\n",
        "                        [20, 30, 50]])\n",
        "\n",
        "chi2_stats, p_value, df_value, expected = stats.chi2_contingency(observe_data)\n",
        "\n",
        "print(f\"Chi Square: {chi2_stats}\\nP-Value: {p_value}\\nDegree of freedom: {df_value}\\nExpected Value: {expected}\")"
      ],
      "metadata": {
        "colab": {
          "base_uri": "https://localhost:8080/"
        },
        "id": "JlvD-GyZQ-v1",
        "outputId": "232b0fb1-041d-4665-85ec-f3b78a6184b1"
      },
      "execution_count": null,
      "outputs": [
        {
          "output_type": "stream",
          "name": "stdout",
          "text": [
            "Chi Square: 30.0\n",
            "P-Value: 4.894437128029217e-06\n",
            "Degree of freedom: 4\n",
            "Expected Value: [[33.33333333 33.33333333 33.33333333]\n",
            " [33.33333333 33.33333333 33.33333333]\n",
            " [33.33333333 33.33333333 33.33333333]]\n"
          ]
        }
      ]
    },
    {
      "cell_type": "code",
      "source": [
        "alpha = 0.05\n",
        "\n",
        "if alpha > p_value:\n",
        "  print('Reject the null hypothesis meaning different age group have different prefrence of the products')\n",
        "else:\n",
        "  print('Failed to reject the null hypothesis different age group have similar prefrence of the products')"
      ],
      "metadata": {
        "colab": {
          "base_uri": "https://localhost:8080/"
        },
        "id": "_h-O0uQIR2qs",
        "outputId": "ed0de8fc-c505-4367-b19f-059d19ac9d22"
      },
      "execution_count": null,
      "outputs": [
        {
          "output_type": "stream",
          "name": "stdout",
          "text": [
            "Reject the null hypothesis meaning different age group have different prefrence of the products\n"
          ]
        }
      ]
    },
    {
      "cell_type": "code",
      "source": [],
      "metadata": {
        "id": "HBdNPsV5TIrq"
      },
      "execution_count": null,
      "outputs": []
    }
  ]
}