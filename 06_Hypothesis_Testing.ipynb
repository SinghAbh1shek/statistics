{
  "nbformat": 4,
  "nbformat_minor": 0,
  "metadata": {
    "colab": {
      "provenance": [],
      "authorship_tag": "ABX9TyN7NhmK0AypTeElDDe9XISF",
      "include_colab_link": true
    },
    "kernelspec": {
      "name": "python3",
      "display_name": "Python 3"
    },
    "language_info": {
      "name": "python"
    }
  },
  "cells": [
    {
      "cell_type": "markdown",
      "metadata": {
        "id": "view-in-github",
        "colab_type": "text"
      },
      "source": [
        "<a href=\"https://colab.research.google.com/github/SinghAbh1shek/statistics/blob/main/06_Hypothesis_Testing.ipynb\" target=\"_parent\"><img src=\"https://colab.research.google.com/assets/colab-badge.svg\" alt=\"Open In Colab\"/></a>"
      ]
    },
    {
      "cell_type": "code",
      "source": [
        "from scipy.stats import norm"
      ],
      "metadata": {
        "id": "M_AEdRpP2ZxV"
      },
      "execution_count": null,
      "outputs": []
    },
    {
      "cell_type": "code",
      "execution_count": null,
      "metadata": {
        "id": "dhLE5nFd1ZqD"
      },
      "outputs": [],
      "source": [
        "population_mean = 800\n",
        "sample_mean = 790\n",
        "standard_error = 7.5\n",
        "alpha = 0.05"
      ]
    },
    {
      "cell_type": "code",
      "source": [
        "z_score = (sample_mean - population_mean)/standard_error\n",
        "\n",
        "# two tailed test\n",
        "p_value = 2 * norm.cdf(z_score)\n",
        "p_value"
      ],
      "metadata": {
        "colab": {
          "base_uri": "https://localhost:8080/"
        },
        "id": "sZcH407k2FFs",
        "outputId": "187ac0b7-b680-4fcb-c632-c20a269404da"
      },
      "execution_count": null,
      "outputs": [
        {
          "output_type": "execute_result",
          "data": {
            "text/plain": [
              "np.float64(0.18242243945173575)"
            ]
          },
          "metadata": {},
          "execution_count": 3
        }
      ]
    },
    {
      "cell_type": "code",
      "source": [
        "if p_value > alpha:\n",
        "  print('Failed to reject the null hypothesis: average lifespan of the lightbulb is approximately 800 hours')\n",
        "else:\n",
        "  print('Reject the null hypothesis: average lifespan of the lightbulb is not 800 hours')"
      ],
      "metadata": {
        "colab": {
          "base_uri": "https://localhost:8080/"
        },
        "id": "S4s3HCbT28ru",
        "outputId": "1bc55e22-59d0-49e8-8e0a-eb86db2770da"
      },
      "execution_count": null,
      "outputs": [
        {
          "output_type": "stream",
          "name": "stdout",
          "text": [
            "Failed to reject the null hypothesis: average lifespan of the lightbulb is approximately 800 hours\n"
          ]
        }
      ]
    },
    {
      "cell_type": "code",
      "source": [
        "# Q.2\n",
        "\n",
        "\n",
        "population_mean = 20\n",
        "sample_mean = 18.8\n",
        "standard_error = 0.8\n",
        "alpha = 0.05"
      ],
      "metadata": {
        "id": "vFXDJCcF3ibq"
      },
      "execution_count": null,
      "outputs": []
    },
    {
      "cell_type": "code",
      "source": [
        "z_score = (sample_mean - population_mean)/standard_error\n",
        "\n",
        "# two tailed test\n",
        "p_value = 2 * norm.cdf(z_score)\n",
        "p_value"
      ],
      "metadata": {
        "colab": {
          "base_uri": "https://localhost:8080/"
        },
        "id": "qTwLuqnr4d-s",
        "outputId": "d695ef1a-7ded-432c-ea21-2e8bdb9b1660"
      },
      "execution_count": null,
      "outputs": [
        {
          "output_type": "execute_result",
          "data": {
            "text/plain": [
              "np.float64(0.13361440253771634)"
            ]
          },
          "metadata": {},
          "execution_count": 7
        }
      ]
    },
    {
      "cell_type": "code",
      "source": [
        "if p_value > alpha:\n",
        "  print('Failed to reject the null hypothesis: average protein bars contains approximately 20 grams of protein')\n",
        "else:\n",
        "  print('Reject the null hypothesis: average proteins bars not containing 20 grams of protein')"
      ],
      "metadata": {
        "colab": {
          "base_uri": "https://localhost:8080/"
        },
        "id": "Dr0Tiszs4g8y",
        "outputId": "16652459-cf09-4f61-b5d8-eb237501cb00"
      },
      "execution_count": null,
      "outputs": [
        {
          "output_type": "stream",
          "name": "stdout",
          "text": [
            "Failed to reject the null hypothesis: average protein bars contains approximately 20 grams of protein\n"
          ]
        }
      ]
    },
    {
      "cell_type": "markdown",
      "source": [
        "You work for a company that produces three types of energy drinks. The company wants to know if the average caffeine content differs significantly among these three types. You collect data on the caffeine content (in milligrams) from five samples of each drink:\n",
        "\n",
        "Energy Drink A: 105 mg, 110 mg, 98 mg, 107 mg, 103 mg\n",
        "\n",
        "Energy Drink B: 130 mg, 125 mg, 132 mg, 128 mg, 129 mg\n",
        "\n",
        "Energy Drink C: 120 mg, 115 mg, 117 mg, 119 mg, 121 mg\n",
        "\n",
        "Question: Is there a statistically significant difference in the average caffeine content between these three types of energy drinks?\n"
      ],
      "metadata": {
        "id": "9gxabika0-fv"
      }
    },
    {
      "cell_type": "code",
      "source": [
        "import scipy.stats as stats\n",
        "\n",
        "group_A = [105, 110, 98, 107, 103]\n",
        "group_B = [130, 125, 132, 128, 129]\n",
        "group_C = [120, 115, 117, 119, 121]\n",
        "alpha = 0.05\n",
        "f_value, p_value = stats.f_oneway(group_A, group_B, group_C)\n",
        "print(f_value, p_value)"
      ],
      "metadata": {
        "id": "joVAEE205Frv",
        "colab": {
          "base_uri": "https://localhost:8080/"
        },
        "outputId": "fc849a1e-d39b-49b6-e806-c9159239f757"
      },
      "execution_count": null,
      "outputs": [
        {
          "output_type": "stream",
          "name": "stdout",
          "text": [
            "67.39634146341461 2.984427460719471e-07\n"
          ]
        }
      ]
    },
    {
      "cell_type": "code",
      "source": [
        "if f_value < p_value:\n",
        "  print('Fail to reject the null hypothesis meaning there is no significant difference in the average caffeine content of the above average energy drinks')\n",
        "else:\n",
        "  print('Reject the null hypothesis meaning there is significant difference  in the average caffeine content of the above three energy drinks')"
      ],
      "metadata": {
        "colab": {
          "base_uri": "https://localhost:8080/"
        },
        "id": "gqKOyzBU1jOt",
        "outputId": "18f8c183-f800-4cff-c17b-614f2050fdf4"
      },
      "execution_count": null,
      "outputs": [
        {
          "output_type": "stream",
          "name": "stdout",
          "text": [
            "Reject the null hypothesis meaning there is significant difference  in the average caffeine content of the above three energy drinks\n"
          ]
        }
      ]
    },
    {
      "cell_type": "code",
      "source": [
        "group_A = [70, 68, 75, 72, 74]\n",
        "group_B = [65, 66, 70, 60, 68]\n",
        "group_C = [80, 78, 85, 82, 84]\n",
        "alpha = 0.05\n",
        "f_value, p_value = stats.f_oneway(group_A, group_B, group_C)\n",
        "print(f_value, p_value)"
      ],
      "metadata": {
        "colab": {
          "base_uri": "https://localhost:8080/"
        },
        "id": "dacHYafU3lER",
        "outputId": "b3f1cdd8-90b2-483a-bed3-5de365231108"
      },
      "execution_count": null,
      "outputs": [
        {
          "output_type": "stream",
          "name": "stdout",
          "text": [
            "32.026143790849645 1.5431700494837376e-05\n"
          ]
        }
      ]
    },
    {
      "cell_type": "code",
      "source": [],
      "metadata": {
        "id": "ofX6WrFv_2b3"
      },
      "execution_count": null,
      "outputs": []
    }
  ]
}